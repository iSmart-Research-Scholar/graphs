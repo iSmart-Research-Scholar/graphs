{
 "cells": [
  {
   "cell_type": "code",
   "execution_count": 11,
   "metadata": {},
   "outputs": [
    {
     "name": "stdout",
     "output_type": "stream",
     "text": [
      "[{'citingPaper': {'paperId': 'e7dcdfb7734d59b97f825cce8b3105a2d9b14d10', 'title': 'The Effect of Metadata on Scientific Literature Tagging: A Cross-Field Cross-Model Study', 'referenceCount': 61, 'citationCount': 0}}, {'citingPaper': {'paperId': '1a37f43db8108af003bc9af181460ddaacf9e815', 'title': 'Convolutional Learning on Simplicial Complexes', 'referenceCount': 74, 'citationCount': 0}}, {'citingPaper': {'paperId': 'cb92a7f9d9dbcf9145e32fdfa0e70e2a6b828eb1', 'title': 'The Semantic Scholar Open Data Platform', 'referenceCount': 17, 'citationCount': 0}}, {'citingPaper': {'paperId': '1712eaa82a2e3d081538a17e06416330fac0a0d8', 'title': 'Energy Efficient Semantic Communication over Wireless Networks with Rate Splitting', 'referenceCount': 57, 'citationCount': 0}}, {'citingPaper': {'paperId': 'b74aec118f2b62ae05b04f1b66ab79c2e5b873c0', 'title': 'MRT: Tracing the Evolution of Scientific Publications', 'referenceCount': 47, 'citationCount': 4}}]\n"
     ]
    }
   ],
   "source": [
    "import requests\n",
    "\n",
    "def getCitationsLimited(str):\n",
    "    # paperId='649def34f8be52c8b66281af98ae884c09aef38b'\n",
    "    paperId=str\n",
    "    # print(paperId)\n",
    "    link=f'https://api.semanticscholar.org/graph/v1/paper/{paperId}/citations?fields=paperId,title,referenceCount,citationCount&offset=0&limit=5'\n",
    "    res=requests.get(link)\n",
    "    # print(res.status_code)\n",
    "    result=res.json()['data']\n",
    "\n",
    "    return result\n",
    "\n",
    "\n",
    "def getReferencesLimited(str):\n",
    "    # paperId='649def34f8be52c8b66281af98ae884c09aef38b'\n",
    "    paperId=str\n",
    "    link=f'https://api.semanticscholar.org/graph/v1/paper/{paperId}/references?fields=paperId,title,referenceCount,citationCount'\n",
    "    res=requests.get(link)\n",
    "    # print(res.status_code)\n",
    "    result=res.json()['data']\n",
    "       \n",
    "    return result\n",
    "\n",
    "\n",
    "\n",
    "\n",
    "def nested_citations(paperId):\n",
    "    allCitations=getCitationsLimited(paperId)\n",
    "    level1=[]\n",
    "    \n",
    "\n",
    "    for item in allCitations:\n",
    "        # print(item[\"paperId\"])\n",
    "        level1.append(getCitationsLimited(item[\"paperId\"]))\n",
    "    return level1\n",
    "\n",
    "level1=getCitationsLimited('649def34f8be52c8b66281af98ae884c09aef38b')\n",
    "print(level1)\n"
   ]
  }
 ],
 "metadata": {
  "kernelspec": {
   "display_name": "Python 3",
   "language": "python",
   "name": "python3"
  },
  "language_info": {
   "codemirror_mode": {
    "name": "ipython",
    "version": 3
   },
   "file_extension": ".py",
   "mimetype": "text/x-python",
   "name": "python",
   "nbconvert_exporter": "python",
   "pygments_lexer": "ipython3",
   "version": "3.10.6"
  },
  "orig_nbformat": 4,
  "vscode": {
   "interpreter": {
    "hash": "31f2aee4e71d21fbe5cf8b01ff0e069b9275f58929596ceb00d14d90e3e16cd6"
   }
  }
 },
 "nbformat": 4,
 "nbformat_minor": 2
}
