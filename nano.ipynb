{
 "cells": [
  {
   "cell_type": "code",
   "execution_count": 1,
   "metadata": {},
   "outputs": [
    {
     "data": {
      "image/png": "[encoded data removed]",
      "text/plain": [
       "<Figure size 432x288 with 1 Axes>"
      ]
     },
     "metadata": {},
     "output_type": "display_data"
    }
   ],
   "source": [
    "import networkx as nx\n",
    "import matplotlib.pyplot as plt\n",
    "\n",
    "# Define the edges of the graph and the number of citations received by each paper\n",
    "edges = [(\"Paper A\", \"Paper B\"), (\"Paper B\", \"Paper C\"), (\"Paper C\", \"Paper D\")]\n",
    "citations = {\"Paper A\": 5, \"Paper B\": 10, \"Paper C\": 8, \"Paper D\": 7}\n",
    "\n",
    "# Create the graph\n",
    "G = nx.DiGraph()\n",
    "G.add_edges_from(edges)\n",
    "\n",
    "# Set the node size based on the number of citations received\n",
    "node_sizes = [citations[n]*100 for n in G.nodes()]\n",
    "\n",
    "# Plot the graph\n",
    "nx.draw(G, with_labels=True, node_size=node_sizes)\n",
    "plt.show()\n"
   ]
  },
  {
   "cell_type": "code",
   "execution_count": null,
   "metadata": {},
   "outputs": [],
   "source": [
    "# import requests\n",
    "# paperId='649def34f8be52c8b66281af98ae884c09aef38b'\n",
    "# link=f'https://api.semanticscholar.org/graph/v1/paper/{paperId}/citations?fields=isInfluential,paperId,title&offset={}'\n",
    "# res=requests.get(link)\n",
    "# print(res.status_code)\n",
    "# result=res.json()['data']\n",
    "# offset=100\n",
    "# while res.json()['data'] != None:\n",
    "    # link=f'https://api.semanticscholar.org/graph/v1/paper/{paperId}/citations?fields=isInfluential,paperId,title&offset={offset}'\n",
    "    # res2=requests.get(link)\n",
    "    # result.extend(res2.json()['data'])\n",
    "\n",
    "# print(res.json())"
   ]
  },
  {
   "cell_type": "code",
   "execution_count": null,
   "metadata": {},
   "outputs": [],
   "source": [
    "import requests\n",
    "paperId='649def34f8be52c8b66281af98ae884c09aef38b'\n",
    "link=f'https://api.semanticscholar.org/graph/v1/paper/{paperId}/citations?fields=isInfluential,paperId,title'\n",
    "res=requests.get(link)\n",
    "print(res.status_code)\n",
    "result=res.json()['data']\n",
    "offset=100\n",
    "flag=1\n",
    "\n",
    "while flag!=0:\n",
    "    link=f'https://api.semanticscholar.org/graph/v1/paper/{paperId}/citations?fields=isInfluential,paperId,title&offset={offset}'\n",
    "    res2=requests.get(link)\n",
    "    result2=res2.json()['data']\n",
    "    flag=len(result2)\n",
    "    result.extend(result2)\n",
    "    print(offset,flag)\n",
    "    offset+=100\n",
    "    \n",
    "\n",
    "print(result[0])\n",
    "resultnew=[]\n",
    "for ires in result:\n",
    "    if ires['isInfluential']==True:\n",
    "        resultnew.append(ires)\n",
    "print(resultnew)\n"
   ]
  }
 ],
 "metadata": {
  "kernelspec": {
   "display_name": "Python 3",
   "language": "python",
   "name": "python3"
  },
  "language_info": {
   "codemirror_mode": {
    "name": "ipython",
    "version": 3
   },
   "file_extension": ".py",
   "mimetype": "text/x-python",
   "name": "python",
   "nbconvert_exporter": "python",
   "pygments_lexer": "ipython3",
   "version": "3.10.6"
  },
  "orig_nbformat": 4,
  "vscode": {
   "interpreter": {
    "hash": "31f2aee4e71d21fbe5cf8b01ff0e069b9275f58929596ceb00d14d90e3e16cd6"
   }
  }
 },
 "nbformat": 4,
 "nbformat_minor": 2
}
